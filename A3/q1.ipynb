{
  "nbformat": 4,
  "nbformat_minor": 0,
  "metadata": {
    "colab": {
      "provenance": []
    },
    "kernelspec": {
      "name": "python3",
      "display_name": "Python 3"
    },
    "language_info": {
      "name": "python"
    }
  },
  "cells": [
    {
      "cell_type": "code",
      "execution_count": null,
      "metadata": {
        "id": "XX5NCIzTrHQ5"
      },
      "outputs": [],
      "source": [
        "import numpy as np\n",
        "import cv2\n",
        "from math import pi, exp\n",
        "import matplotlib.pyplot as plt\n",
        "from scipy.ndimage import convolve"
      ]
    },
    {
      "cell_type": "code",
      "source": [
        "from google.colab import drive\n",
        "drive.mount('/content/drive')"
      ],
      "metadata": {
        "id": "ERHmcnRkUDH6"
      },
      "execution_count": null,
      "outputs": []
    },
    {
      "cell_type": "code",
      "source": [
        "size = 4000\n",
        "square_size = 100\n",
        "img = np.ones((size, size))\n",
        "start = (size - square_size) // 2\n",
        "end = start + square_size\n",
        "img[start:end, start:end] = 0\n",
        "plt.imshow(img,cmap='gray')\n",
        "\n",
        "plt.savefig(('/content/drive/My Drive/csc420_a3/plot12.png'))\n",
        "plt.show()"
      ],
      "metadata": {
        "id": "h-FiJxs2rKNP"
      },
      "execution_count": null,
      "outputs": []
    },
    {
      "cell_type": "code",
      "source": [
        "def log(i,j,s):\n",
        "  \"\"\"Laplacian of Gaussian function\"\"\"\n",
        "\n",
        "  r_square = (i**2 + j**2)\n",
        "  temp = r_square/(2*(s**2))\n",
        "  const = pi*(s**4)\n",
        "  log = exp(-temp)*(temp - 1)/const\n",
        "  return log\n",
        "\n",
        "\n",
        "def pixelconvolution(img, s):\n",
        "    out = 0\n",
        "    for i in range(4000):\n",
        "        for j in range(4000):\n",
        "            out += img[i][j] * log(i-4000/2,j-4000/2,s)\n",
        "    return out"
      ],
      "metadata": {
        "id": "34HF31rDrP2b"
      },
      "execution_count": null,
      "outputs": []
    },
    {
      "cell_type": "code",
      "source": [
        "r = [pixelconvolution(img,s) for s in range(20,60,5)]\n",
        "\n",
        "plt.plot(range(20,60,5), r)\n",
        "plt.xlabel(\"sigma value\")\n",
        "plt.ylabel(\"response\")\n",
        "plt.show()\n",
        "\n",
        "plt.savefig(('/content/drive/My Drive/csc420_a3/plot13.png'))\n",
        "np.argmax(r) * 5 + 20 "
      ],
      "metadata": {
        "id": "ap-NFj-irShR"
      },
      "execution_count": null,
      "outputs": []
    }
  ]
}