{
  "nbformat": 4,
  "nbformat_minor": 0,
  "metadata": {
    "colab": {
      "provenance": []
    },
    "kernelspec": {
      "name": "python3",
      "display_name": "Python 3"
    },
    "language_info": {
      "name": "python"
    }
  },
  "cells": [
    {
      "cell_type": "code",
      "execution_count": null,
      "metadata": {
        "id": "bQvW5D5dpBo8"
      },
      "outputs": [],
      "source": [
        "import os\n",
        "import torch\n",
        "import pandas as pd\n",
        "import numpy as np\n",
        "import cv2\n",
        "from scipy import ndimage\n",
        "from PIL import Image\n",
        "from collections import OrderedDict\n",
        "from numpy.lib.function_base import angle\n",
        "import matplotlib.pyplot as plt\n",
        "%matplotlib inline"
      ]
    },
    {
      "cell_type": "code",
      "source": [
        "from google.colab import drive\n",
        "drive.mount('/content/drive')"
      ],
      "metadata": {
        "id": "RIyoGTd5LbHC"
      },
      "execution_count": null,
      "outputs": []
    },
    {
      "cell_type": "code",
      "source": [
        "img1 = cv2.imread('/content/drive/My Drive/csc420_a3/image1.png', cv2.IMREAD_GRAYSCALE)\n",
        "img2 = cv2.imread('/content/drive/My Drive/csc420_a3/image2.png', cv2.IMREAD_GRAYSCALE)"
      ],
      "metadata": {
        "id": "KRpyYkURKXhr"
      },
      "execution_count": null,
      "outputs": []
    },
    {
      "cell_type": "code",
      "source": [
        "def get_histogram(img, occ):\n",
        "\n",
        "  gx = cv2.Sobel(img, cv2.CV_64F, 1, 0, ksize=3)\n",
        "  gy = cv2.Sobel(img, cv2.CV_64F, 0, 1, ksize=3)\n",
        "\n",
        "  mag = cv2.magnitude(gx, gy)\n",
        "  rad = np.arctan2(gy, gx)\n",
        "  ang = np.rad2deg(rad)\n",
        "  ang[ang < -15] += 180\n",
        "  mag1 = cv2.convertScaleAbs(mag)\n",
        "\n",
        "  threshold = 100 # tried bunch of different thresholds and trialed and errored before selecting 100. \n",
        "  #Also tried methods like Otsu. At the end 100 threshold worked perfectly for all my images based on Visualization and accuracy.\n",
        " \n",
        "  mag[mag < threshold] = 0\n",
        "\n",
        "  tau = 8\n",
        "  m, n = img.shape[0] // tau, img.shape[1] // tau\n",
        "  mag_histogram = np.zeros((m, n, 6), dtype=np.float32)\n",
        "  occ_histogram = np.zeros((m, n, 6), dtype=np.float32)\n",
        "  for i in range(m):\n",
        "        for j in range(n):\n",
        "            for s in range(tau):\n",
        "                for t in range(tau):\n",
        "                    img_i, img_j = i*tau + s, j*tau + t\n",
        "                    if -15 <= ang[img_i][img_j] < 15:\n",
        "                        mag_histogram[i][j][0] += mag[img_i][img_j]\n",
        "                        occ_histogram[i][j][0] += 1\n",
        "                    elif 15 <= ang[img_i][img_j] < 45:\n",
        "                        mag_histogram[i][j][1] += mag[img_i][img_j]\n",
        "                        occ_histogram[i][j][1] += 1\n",
        "                    elif 45 <= ang[img_i][img_j] < 75:\n",
        "                        mag_histogram[i][j][2] += mag[img_i][img_j]\n",
        "                        occ_histogram[i][j][2] += 1\n",
        "                    elif 75 <= ang[img_i][img_j] < 105:\n",
        "                        mag_histogram[i][j][3] += mag[img_i][img_j]\n",
        "                        occ_histogram[i][j][3] += 1\n",
        "                    elif 105 <= ang[img_i][img_j] < 135:\n",
        "                        mag_histogram[i][j][4] += mag[img_i][img_j]\n",
        "                        occ_histogram[i][j][4] += 1\n",
        "                    elif 135 <= ang[img_i][img_j] < 165:\n",
        "                        mag_histogram[i][j][5] += mag[img_i][img_j]\n",
        "                        occ_histogram[i][j][5] += 1\n",
        "  if occ:\n",
        "    return occ_histogram\n",
        "  else:       \n",
        "    return mag_histogram\n"
      ],
      "metadata": {
        "id": "vUdGpTjPTpJQ"
      },
      "execution_count": null,
      "outputs": []
    },
    {
      "cell_type": "code",
      "source": [
        "def plot_quiver(histogram, size=8):\n",
        "    x, y, u, v = [], [], [], []\n",
        "    m, n, _ = histogram.shape\n",
        "    for i in range(m):\n",
        "        for j in range(n):\n",
        "            for l in range(6):\n",
        "                x.append(j * size + size // 2)\n",
        "                y.append(i * size + size // 2)\n",
        "                u.append(histogram[i][j][l] * np.sin(np.pi / 6 * l))\n",
        "                v.append(histogram[i][j][l] * np.cos(np.pi / 6 * l))\n",
        "    return x, y, u, v"
      ],
      "metadata": {
        "id": "24JF9sR2VQ6G"
      },
      "execution_count": null,
      "outputs": []
    },
    {
      "cell_type": "code",
      "source": [
        "fig, ax = plt.subplots(1, 2, figsize=(15, 13))\n",
        "hist_img1 = get_histogram(img1, False)\n",
        "ax[0].set_title('Magnitudes')\n",
        "x, y, u, v = plot_quiver(hist_img1)\n",
        "ax[0].imshow(img1, cmap='gray')\n",
        "ax[0].quiver(x, y, u, v, color='red', pivot='middle')\n",
        "occ = get_histogram(img1, True)\n",
        "ax[1].set_title('Occurrences')\n",
        "x, y, u, v = plot_quiver(occ)\n",
        "ax[1].imshow(img1, cmap='gray')\n",
        "ax[1].quiver(x, y, u, v, color='red', pivot='middle')\n",
        "plt.savefig(('/content/drive/My Drive/csc420_a3/plot5.png'))\n",
        "plt.show()"
      ],
      "metadata": {
        "id": "61uHIDN7V92D"
      },
      "execution_count": null,
      "outputs": []
    },
    {
      "cell_type": "code",
      "source": [
        "fig, ax = plt.subplots(1, 2, figsize=(15, 13))\n",
        "hist_img2 = get_histogram(img2, False)\n",
        "ax[0].set_title('Magnitudes')\n",
        "x, y, u, v = plot_quiver(hist_img2)\n",
        "ax[0].imshow(img2, cmap='gray')\n",
        "ax[0].quiver(x, y, u, v, color='red', pivot='middle')\n",
        "occ = get_histogram(img2, True)\n",
        "ax[1].set_title('Occurrences')\n",
        "x, y, u, v = plot_quiver(occ)\n",
        "ax[1].imshow(img2, cmap='gray')\n",
        "ax[1].quiver(x, y, u, v, color='red', pivot='middle')\n",
        "plt.savefig(('/content/drive/My Drive/csc420_a3/plot6.png'))\n",
        "plt.show()"
      ],
      "metadata": {
        "id": "0SfOx-4Kqblw"
      },
      "execution_count": null,
      "outputs": []
    },
    {
      "cell_type": "markdown",
      "source": [
        "Compared to counting occurrences approach, the method of accumulating gradient magnitudes tends to produce more accurate and visually informative quiver plots around the jellyfish and bears."
      ],
      "metadata": {
        "id": "dEkItfVsmDva"
      }
    },
    {
      "cell_type": "markdown",
      "source": [
        "Decided to go ahead with the approach of Gradient Magnitudes for the rest of the task as the reason stated above"
      ],
      "metadata": {
        "id": "k5svUANBf9az"
      }
    },
    {
      "cell_type": "code",
      "source": [
        "def compute_normalized_histogram(hist):\n",
        "    block_size = 2\n",
        "    n_orientations = 6\n",
        "\n",
        "    e = 0.001\n",
        "\n",
        "    n_rows, n_cols, n_bins = hist.shape\n",
        "\n",
        "    out_rows = n_rows - block_size + 1\n",
        "    out_cols = n_cols - block_size + 1\n",
        "\n",
        "    out_hist = np.zeros((out_rows, out_cols, n_bins * block_size * block_size), dtype=np.float32)\n",
        "\n",
        "    for i in range(out_rows):\n",
        "        for j in range(out_cols):\n",
        "            block = hist[i:i+block_size, j:j+block_size, :]\n",
        "\n",
        "            block_norm = block / np.sum(np.sqrt(np.square(block) + np.square(e)))\n",
        "            out_hist[i,j,:] = block_norm.reshape(-1)\n",
        "\n",
        "    return out_hist\n",
        "\n"
      ],
      "metadata": {
        "id": "DE9v0NqUSBba"
      },
      "execution_count": null,
      "outputs": []
    },
    {
      "cell_type": "code",
      "source": [
        "normalized = compute_normalized_histogram(hist_img1)\n",
        "np.savetxt('/content/drive/My Drive/csc420_a3/image1.txt', normalized.reshape(-1, ))\n",
        "fig, ax = plt.subplots(1, 1, figsize=(15, 13))\n",
        "ax.set_title('Normalized Image 1')\n",
        "x, y, u, v = plot_quiver(normalized)\n",
        "ax.imshow(img1, cmap='gray')\n",
        "ax.quiver(x, y, u, v, color='red', pivot='middle')\n",
        "plt.savefig(('/content/drive/My Drive/csc420_a3/plot7.png'))\n"
      ],
      "metadata": {
        "id": "8vNbvbdRoh5k"
      },
      "execution_count": null,
      "outputs": []
    },
    {
      "cell_type": "code",
      "source": [
        "normalized_2 = compute_normalized_histogram(hist_img2)\n",
        "np.savetxt('/content/drive/My Drive/csc420_a3/image2.txt', normalized_2.reshape(-1, ))\n",
        "fig, ax = plt.subplots(1, 1, figsize=(15, 13))\n",
        "ax.set_title('Normalized Image 2')\n",
        "x, y, u, v = plot_quiver(normalized)\n",
        "ax.imshow(img2, cmap='gray')\n",
        "ax.quiver(x, y, u, v, color='red', pivot='middle')\n",
        "plt.savefig(('/content/drive/My Drive/csc420_a3/plot8.png'))"
      ],
      "metadata": {
        "id": "DXb71wufqu5B"
      },
      "execution_count": null,
      "outputs": []
    },
    {
      "cell_type": "code",
      "source": [
        "flash_img = cv2.imread('/content/drive/My Drive/csc420_a3/flash.jpg')\n",
        "nonflash_img = cv2.imread('/content/drive/My Drive/csc420_a3/nonflash.jpg')\n",
        "scale_factor = 0.5\n",
        "flash_img = cv2.resize(flash_img, None, fx=scale_factor, fy=scale_factor, interpolation=cv2.INTER_LINEAR)\n",
        "nonflash_img = cv2.resize(nonflash_img, None, fx=scale_factor, fy=scale_factor, interpolation=cv2.INTER_LINEAR)\n",
        "\n",
        "flash_img = cv2.cvtColor(flash_img, cv2.COLOR_BGR2GRAY)\n",
        "\n",
        "nonflash_img = cv2.cvtColor(nonflash_img, cv2.COLOR_BGR2GRAY)\n",
        "fig, ax = plt.subplots(1, 2, figsize=(15, 13))\n",
        "ax[0].set_title('Flash')\n",
        "ax[0].imshow(flash_img, cmap='gray')\n",
        "ax[1].set_title('Non Flash')\n",
        "ax[1].imshow(nonflash_img, cmap='gray')\n",
        "plt.savefig(('/content/drive/My Drive/csc420_a3/plot9.png'))"
      ],
      "metadata": {
        "id": "K77xYLwuOiSG"
      },
      "execution_count": null,
      "outputs": []
    },
    {
      "cell_type": "code",
      "source": [
        "flash_hist = get_histogram(flash_img, False)\n",
        "nonflash_hist = get_histogram(nonflash_img, False)\n",
        "\n",
        "fig, ax = plt.subplots(1, 2, figsize=(15, 13))\n",
        "\n",
        "ax[0].set_title('Flash Magnitudes')\n",
        "x, y, u, v = plot_quiver(flash_hist)\n",
        "ax[0].imshow(flash_img, cmap='gray')\n",
        "ax[0].quiver(x, y, u, v, color='red', pivot='middle')\n",
        "\n",
        "ax[1].set_title('Non Flash Magnitudes')\n",
        "x, y, u, v = plot_quiver(nonflash_hist)\n",
        "ax[1].imshow(nonflash_img, cmap='gray')\n",
        "ax[1].quiver(x, y, u, v, color='red', pivot='middle')\n",
        "plt.savefig(('/content/drive/My Drive/csc420_a3/plot10.png'))\n",
        "plt.show()"
      ],
      "metadata": {
        "id": "73qLnnv3Pu6S"
      },
      "execution_count": null,
      "outputs": []
    },
    {
      "cell_type": "code",
      "source": [
        "normalized_flash = compute_normalized_histogram(flash_hist)\n",
        "np.savetxt('/content/drive/My Drive/csc420_a3/flash.txt', normalized_flash.reshape(-1, ))\n",
        "normalized_nonflash = compute_normalized_histogram(nonflash_hist)\n",
        "np.savetxt('/content/drive/My Drive/csc420_a3/nonflash.txt', normalized_nonflash.reshape(-1, ))\n",
        "\n",
        "fig, ax = plt.subplots(1, 2, figsize=(15, 13))\n",
        "\n",
        "ax[0].set_title('Flash Normalized')\n",
        "x, y, u, v = plot_quiver(normalized_flash)\n",
        "ax[0].imshow(flash_img, cmap='gray')\n",
        "ax[0].quiver(x, y, u, v, color='red', pivot='middle')\n",
        "\n",
        "ax[1].set_title('Non Flash Normalized')\n",
        "x, y, u, v = plot_quiver(normalized_nonflash)\n",
        "ax[1].imshow(nonflash_img, cmap='gray')\n",
        "ax[1].quiver(x, y, u, v, color='red', pivot='middle')\n",
        "plt.savefig(('/content/drive/My Drive/csc420_a3/plot11.png'))\n"
      ],
      "metadata": {
        "id": "ju0c4oPTR1Db"
      },
      "execution_count": null,
      "outputs": []
    },
    {
      "cell_type": "markdown",
      "source": [
        "The gradient magnitude approach is more effective than the normalized HOG approach in detecting the edges of the rose in the flash photo. This is because the flash photo produces well-defined edges that the magnitude approach can accurately detect. On the other hand, I found that the normalized HOG approach was not beneficial in my case. This method tends to decrease the effect of large magnitudes, leading to noise in the shadow on the white wall in the non-flash photo. Additionally, the normalized HOG approach picks up on small details in the flash photo, which can be irrelevant for the analysis. I have Visually compared the outcomes of both methods on several other flash and non flash photos too and all had similar results as noted above."
      ],
      "metadata": {
        "id": "NOgyF5efmu90"
      }
    }
  ]
}